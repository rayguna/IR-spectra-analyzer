{
 "cells": [
  {
   "cell_type": "markdown",
   "metadata": {},
   "source": [
    "#IR spectral analysis of organic compounds via machine learning approach\n",
    "\n",
    "By: Ray Gunawidjaja\n",
    "\n",
    "-Work in progress (last updated: 112917)-"
   ]
  },
  {
   "cell_type": "markdown",
   "metadata": {},
   "source": [
    "Objectives\n",
    "    1. Reduce the amount of data sets: \n",
    "        Perform: analysis of data, cleaning, and EDA to shorten the NIST chemicals list\n",
    "        \n",
    "    2. Spectra acquisition and analysis:\n",
    "        a. Download spectra from NIST database using the reduced NIST chemicals list\n",
    "        b. Do spectral analysis\n",
    "        \n",
    "    3. Modeling and testing:\n",
    "        Select ML models, optimize, and test model using challenging data sets    "
   ]
  },
  {
   "cell_type": "code",
   "execution_count": 166,
   "metadata": {},
   "outputs": [],
   "source": [
    "#Obj. 1 Reduce the amount of data sets:  \n",
    "#Task 1. Funct: Read periodic table of elements and store into a dictionary: \n",
    "#    dict['element_name']=['atomic_number','atomic_mass'] \n",
    "\n",
    "import collections #create an ordered dictionary. In this case, order of elements is important.\n",
    "dict = collections.OrderedDict()#initialize dictionary.\n",
    "\n",
    "def dict_periodic_table(file_name):\n",
    "    \"\"\" Read a text file line-by-line and extract information for: atomic number, atomic symbol, and relative atomic mass \n",
    "        \n",
    "        The author is aware of at least one python periodic elements package (e.g., https://pypi.python.org/pypi/periodictable),\n",
    "        but chose to implement a different approach.\n",
    "    \"\"\"\n",
    "\n",
    "    \n",
    "    file=open(file_name,'r') #open a file to read\n",
    "\n",
    "    for line in file: #read file line-by-line, extract values, and store into a dictionary\n",
    "\n",
    "        if line.startswith('Atomic Number'):\n",
    "            line=line.replace(\" \",\"\")\n",
    "            value1=line.split('=',1)\n",
    "\n",
    "        if line.startswith('Atomic Symbol'):\n",
    "            line=line.replace(\" \",\"\")\n",
    "            key=line.split('=',1)\n",
    "\n",
    "        if line.startswith('Relative Atomic Mass'):\n",
    "            line=line.replace(\" \",\"\")\n",
    "            value2=line.split('=',1)\n",
    "            \n",
    "            #Store values into dictionary only if the element is unique. Otherwise, the atomic mass will be override by isotope's atomic mass.\n",
    "            if key[1].strip() not in list(dict.keys()): \n",
    "                dict[key[1].strip()]=[value1[1].strip(),value2[1].strip()]\n",
    "            else:\n",
    "                pass\n",
    "            \n",
    "    return dict\n",
    "\n",
    "\n",
    "####End of functions"
   ]
  },
  {
   "cell_type": "code",
   "execution_count": 167,
   "metadata": {},
   "outputs": [
    {
     "name": "stdout",
     "output_type": "stream",
     "text": [
      "['H', 'D', 'T', 'He', 'Li', 'Be', 'B', 'C', 'N', 'O', 'F', 'Ne', 'Na', 'Mg', 'Al', 'Si', 'P', 'S', 'Cl', 'Ar', 'K', 'Ca', 'Sc', 'Ti', 'V', 'Cr', 'Mn', 'Fe', 'Co', 'Ni', 'Cu', 'Zn', 'Ga', 'Ge', 'As', 'Se', 'Br', 'Kr', 'Rb', 'Sr', 'Y', 'Zr', 'Nb', 'Mo', 'Tc', 'Ru', 'Rh', 'Pd', 'Ag', 'Cd', 'In', 'Sn', 'Sb', 'Te', 'I', 'Xe', 'Cs', 'Ba', 'La', 'Ce', 'Pr', 'Nd', 'Pm', 'Sm', 'Eu', 'Gd', 'Tb', 'Dy', 'Ho', 'Er', 'Tm', 'Yb', 'Lu', 'Hf', 'Ta', 'W', 'Re', 'Os', 'Ir', 'Pt', 'Au', 'Hg', 'Tl', 'Pb', 'Bi', 'Po', 'At', 'Rn', 'Fr', 'Ra', 'Ac', 'Th', 'Pa', 'U', 'Np', 'Pu', 'Am', 'Cm', 'Bk', 'Cf', 'Es', 'Fm', 'Md', 'No', 'Lr', 'Rf', 'Db', 'Sg', 'Bh', 'Hs', 'Mt', 'Ds', 'Rg', 'Cn', 'Nh', 'Fl', 'Mc', 'Lv', 'Ts', 'Og']\n",
      "\n",
      "\n",
      "Number of dictinct elements in the dictionary: 120\n"
     ]
    }
   ],
   "source": [
    "#1-1a. Call out function\n",
    "file_name='NIST_periodic_table.txt'\n",
    "dict=dict_periodic_table(file_name)\n",
    "\n",
    "#1-1b.Test out dictionary by calling out the element keys\n",
    "print(list(dict.keys()))\n",
    "print(\"\\n\")\n",
    "print(\"Number of dictinct elements in the dictionary:\", len(dict))"
   ]
  },
  {
   "cell_type": "markdown",
   "metadata": {},
   "source": [
    "[✓] Obj.1 Task 1 is completed. \n",
    "\n",
    "The above shows the dictionary keys showing the 120 periodic table elements with (i.e., 118 being the distinct elements and 2 being the hydrogen isotopes, D and T). "
   ]
  },
  {
   "cell_type": "code",
   "execution_count": 168,
   "metadata": {
    "scrolled": true
   },
   "outputs": [],
   "source": [
    "#Task2: Create tools to analyze NIST chemicals list containing 40K+ enteries. \n",
    "    \n",
    "import pandas as pd\n",
    "import re\n",
    "\n",
    "def read_and_clean_nist_chem_list(no_of_files=72619):\n",
    "    \"\"\" Read and clean NIST chemicals list \"\"\" \n",
    "    \n",
    "    #read file\n",
    "    col_names=['Name', 'Formula', 'CAS']  \n",
    "    #Rename columns \n",
    "    df=pd.read_csv(\"NIST_chemicals_list.csv\", header=1, names=col_names)      \n",
    "    #Remove rows that have null objects and keep only rows with no na values\n",
    "    df=df.dropna()\n",
    "    #make CAS the index column\n",
    "    df=df.set_index('CAS')\n",
    "    \n",
    "    return df\n",
    "\n",
    "\n",
    "def unique_elements(df,df_periodic_table):\n",
    "    \"\"\" Extract unique elements and add to the list: unique_elements \"\"\"\n",
    "    \n",
    "    #An array for storing element_list and unique_elements in NIST chemicals list\n",
    "    elements_list=[]\n",
    "    unique_elements=[]\n",
    "    \n",
    "    #create a list of elements from periodic table: elements_list\n",
    "    for element in df_periodic_table:\n",
    "        elements_list.append(element) \n",
    "        \n",
    "    #determine distinct elements: check which element is present in formula. If not yet in unique_elements list, add it  \n",
    "    for each in df.Formula:\n",
    "        for element in elements_list:\n",
    "            if (element in each) and (element not in unique_elements):\n",
    "                unique_elements.append(element)\n",
    "                \n",
    "    return unique_elements\n",
    "\n",
    "\n",
    "def filter_by_elements(df,elements_list):\n",
    "    \"\"\" Filter compounds to contain any, but not exceeding the elements on the specified list: elements_list s\"\"\"\n",
    "   \n",
    "    #Create a blank pandas DataFrame\n",
    "    new_df=pd.DataFrame()\n",
    "    \n",
    "    for i,element in enumerate(df.Formula):\n",
    "        #strip cemical formula and leave out only the alphabets\n",
    "        s_proc=re.sub('[^a-zA-Z]+', '', element)\n",
    "        for allowed_element in elements_list:  \n",
    "            #subtract stripped formula with elements list\n",
    "            s_proc=s_proc.replace(allowed_element,\"\")\n",
    "            #print(\"s_proc:\", s_proc)\n",
    "            #If the stripped formula is completely anihilated, then all elements must have matched\n",
    "            #Thus, append compound to the new DataFrame\n",
    "            if (s_proc==\"\"):\n",
    "            #    print(\"s_proc:\", s_proc)\n",
    "                new_df=new_df.append(df.iloc[i,:])\n",
    "            #s_proc=re.findall('\\D+', each) #extract only letters\n",
    "            \n",
    "    #relabel index column\n",
    "    new_df.index.name=\"CAS\"\n",
    "    return new_df #returns a list\n",
    "\n",
    "\n",
    "def calc_molec_weight(df,dict):\n",
    "    \"\"\" Calculate molecular weight, Mw, given a chemical formula, df.Formula \"\"\"\n",
    "    #ref.: https://stackoverflow.com/questions/41818916/calculate-molecular-weight-based-on-chemical-formula-using-python\n",
    "\n",
    "\n",
    "    for i,each in enumerate(df.Formula):    \n",
    "        \n",
    "        #separate atomic symbols from atomic ratios\n",
    "        total_weight = 0 #initialize total weight\n",
    "        s = re.findall('([A-Z][a-z]?)([0-9]*)', each)       \n",
    "\n",
    "        for elem, count in s:\n",
    "            if count=='': #For singular elements\n",
    "                count = 1\n",
    "            else:\n",
    "                pass\n",
    "            total_weight += int(count)*float(re.sub('[()]', '', dict[elem][1]))\n",
    "            \n",
    "        #Append total weight to a new column in pandas DataFrame        \n",
    "        df.loc[df.index[i],'Mw']=total_weight\n",
    "    return df\n",
    "\n",
    "    \n",
    "####End of functions"
   ]
  },
  {
   "cell_type": "code",
   "execution_count": 169,
   "metadata": {},
   "outputs": [
    {
     "name": "stdout",
     "output_type": "stream",
     "text": [
      "Unique elements: ['H', 'C', 'N', 'O', 'Cl', 'Si', 'S', 'K', 'Sn', 'F', 'B', 'Br', 'Al', 'Nb', 'Mo', 'Ba', 'Ca', 'Nd', 'Se', 'D', 'Dy', 'Eu', 'In', 'I', 'P', 'Sb', 'T', 'Te', 'Th', 'U', 'Zr', 'Co', 'No', 'Ni', 'Fe', 'Hg', 'Pb', 'Cu', 'Mg', 'Ge', 'Tb', 'Rn', 'Cr', 'Ti', 'V', 'Re', 'La', 'Lu', 'Li', 'Tl', 'As', 'Cd', 'Ce', 'W', 'Er', 'Gd', 'Ho', 'Zn', 'Mn', 'Ga', 'Be', 'Au', 'Cs', 'Sr', 'Ag', 'Na', 'Pr', 'Sm', 'Y', 'Yb', 'Hf', 'Ru', 'Os', 'Pt', 'Rh', 'Ta', 'Ir', 'Pd', 'Bi', 'Rb', 'Sc', 'Pu', 'Tc', 'He', 'Ne', 'Xe', 'Np', 'Ar', 'Tm', 'Kr', 'Po', 'At', 'Es', 'Md', 'Pm', 'Pa', 'Ra', 'Ac', 'Am', 'Bk', 'Cm', 'Cf', 'Fm', 'Fr']\n",
      "\n",
      "\n",
      "No. of unique elements: 104\n",
      "\n",
      "\n",
      "Filtered compounds:                 Formula                                             Name\n",
      "CAS                                                                     \n",
      "100-01-6       C6H6N2O2                                   p-Nitroaniline\n",
      "100-02-7        C6H5NO3                                 Phenol, 4-nitro-\n",
      "100043-29-6       CH2N4                                     2H-Tetrazole\n",
      "100046-00-2  C18H22N2O2  2,2,4,4',6,6'-Hexamethylazobenzene N,N'-dioxide\n",
      "\n",
      "\n",
      "A new DataFrame with Mw column:                 Formula                                             Name  \\\n",
      "CAS                                                                        \n",
      "100-01-6       C6H6N2O2                                   p-Nitroaniline   \n",
      "100-02-7        C6H5NO3                                 Phenol, 4-nitro-   \n",
      "100043-29-6       CH2N4                                     2H-Tetrazole   \n",
      "100046-00-2  C18H22N2O2  2,2,4,4',6,6'-Hexamethylazobenzene N,N'-dioxide   \n",
      "\n",
      "                     Mw  \n",
      "CAS                      \n",
      "100-01-6     138.042927  \n",
      "100-02-7     139.026943  \n",
      "100043-29-6   70.027946  \n",
      "100046-00-2  298.168128  \n"
     ]
    }
   ],
   "source": [
    "#1-2a. call out function and inspect\n",
    "df=read_and_clean_nist_chem_list()\n",
    "#print(df.head()) #check\n",
    "\n",
    "#1-2b.determine unique elements in chemicals list\n",
    "print(\"Unique elements:\", unique_elements(df,list(dict.keys()))) #check\n",
    "print(\"\\n\")\n",
    "print(\"No. of unique elements:\", len(unique_elements(df,list(dict.keys())))) #check\n",
    "\n",
    "#1-2c. filter compounds by elements\n",
    "#Parse for alphabets in cemical formula and create a list.\n",
    "#Compare list with master's list. They must be equal.\n",
    "df_filtered=filter_by_elements(df.head(5),['C','H','O','N'])\n",
    "print(\"\\n\")\n",
    "print(\"Filtered compounds:\", df_filtered) #check\n",
    "                                                 \n",
    "#check                         \n",
    "#print(\"Unique elements:\", unique_elements(filter_by_elements(df.head(20),['C','H','O','N']),list(dict.keys())))\n",
    "\n",
    "#1-2d. Calculate molecular weight of compounds\n",
    "#In progress\n",
    "df_Mw=calc_molec_weight(df_filtered, dict)\n",
    "print(\"\\n\")\n",
    "print(\"A new DataFrame with Mw column:\", df_Mw) #check"
   ]
  },
  {
   "cell_type": "markdown",
   "metadata": {},
   "source": [
    "[✓] Obj. 1 Task 2 is completed. \n",
    "\n",
    "The following tools have been implemented: \n",
    "    -For determining the unique elements present in the NIST chemicals list. \n",
    "    -For filtering compounds that contain specific set of elements\n",
    "    -For calculating molecular weight of compounds\n",
    "    \n",
    "    #*Another feature to add is to group by chemical name into various families of function groups: \n",
    "        ref.: https://en.wikipedia.org/wiki/IUPAC_nomenclature_of_organic_chemistry"
   ]
  },
  {
   "cell_type": "code",
   "execution_count": 170,
   "metadata": {},
   "outputs": [],
   "source": [
    "#Task 3: Perform EDA to classify and shorten the NIST chemicals list  \n",
    "#Work in progress"
   ]
  },
  {
   "cell_type": "code",
   "execution_count": 171,
   "metadata": {},
   "outputs": [
    {
     "ename": "SyntaxError",
     "evalue": "invalid syntax (<ipython-input-171-e7a803455c9b>, line 23)",
     "output_type": "error",
     "traceback": [
      "\u001b[1;36m  File \u001b[1;32m\"<ipython-input-171-e7a803455c9b>\"\u001b[1;36m, line \u001b[1;32m23\u001b[0m\n\u001b[1;33m    *Need to complicate the approach by filtering the types of compounds\u001b[0m\n\u001b[1;37m           ^\u001b[0m\n\u001b[1;31mSyntaxError\u001b[0m\u001b[1;31m:\u001b[0m invalid syntax\n"
     ]
    }
   ],
   "source": [
    "#Obj. 2  Acquire reference spectra (in jcamp format) using the shortlist and analyze spectra\n",
    "\n",
    "import urllib.request\n",
    "import requests\n",
    "\n",
    "def download_jcamp_from_nist(df_filtered,minimum_file_size=1000,no_of_files=20): \n",
    "    \"\"\" Download jcamp files from NIST website by calling out CAS values (i.e., the df index) from chemicals DataFrame, df \"\"\"\n",
    "    \n",
    "    #NOTE THAT SOME OF THESE FILES TURN out to be empty.\n",
    "    #Need to check file size before proceeding. Don't download if empty. \n",
    "    #Files are saved in the same folder as this python script.\n",
    "    \n",
    "    for cas_no in df_filtered.index[:no_of_files]: #Download data based on CAS number partially\n",
    "        url=\"http://webbook.nist.gov/cgi/cbook.cgi?JCAMP=C%s&Index=0&Type=IR\" %(cas_no) #specify CAS no. separately\n",
    "        \n",
    "        if len(requests.get(url).content) >= 1000: #Download only if size is significant. 1000 seems optimum.\n",
    "            #Strip comma, apostrophe, and space in the file name because it will mess up the ability of the jcamp program to read the file.\n",
    "            url_ret=urllib.request.urlretrieve(url,df.loc[cas_no,'Name'].replace(\",\",\"\").replace(\"'\",\"\").strip()+\"_\"+cas_no) #save file according to its cas_no\n",
    "            print(url_ret) #print list of downloaded compounds\n",
    "            \n",
    "####End of functions\n",
    "\n",
    "*Need to complicate the approach by filtering the types of compounds"
   ]
  },
  {
   "cell_type": "code",
   "execution_count": null,
   "metadata": {},
   "outputs": [],
   "source": [
    "#Call out function to download\n",
    "download_jcamp_from_nist(df_filtered,1000,20)  "
   ]
  },
  {
   "cell_type": "code",
   "execution_count": null,
   "metadata": {},
   "outputs": [],
   "source": [
    "#Obj. 3 Modeling and testing\n",
    "\n",
    "#In progress "
   ]
  }
 ],
 "metadata": {
  "kernelspec": {
   "display_name": "Python 3",
   "language": "python",
   "name": "python3"
  },
  "language_info": {
   "codemirror_mode": {
    "name": "ipython",
    "version": 3
   },
   "file_extension": ".py",
   "mimetype": "text/x-python",
   "name": "python",
   "nbconvert_exporter": "python",
   "pygments_lexer": "ipython3",
   "version": "3.6.3"
  }
 },
 "nbformat": 4,
 "nbformat_minor": 2
}
