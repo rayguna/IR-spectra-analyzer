{
 "cells": [
  {
   "cell_type": "markdown",
   "metadata": {},
   "source": [
    "#An automated infrared spectral analysis using machine learning\n",
    "By: Ray Gunawidjaja"
   ]
  },
  {
   "cell_type": "markdown",
   "metadata": {},
   "source": [
    "Objectives\n",
    "    1. Reduce the amount of data sets: \n",
    "        Perform analysis of data, cleaning, and EDA on NIST chemicals list\n",
    "        \n",
    "    2. Spectra acquisition and analysis:\n",
    "        a. Download spectra from NIST database using the reduced NIST chemicals list\n",
    "        b. Spectra analysis\n",
    "        \n",
    "    3. Modeling and testing:\n",
    "        Select ML model, optimize, and test using challenging data sets    "
   ]
  },
  {
   "cell_type": "markdown",
   "metadata": {
    "collapsed": true
   },
   "source": [
    "Obj. 1 Reduce the amount of data sets:  "
   ]
  },
  {
   "cell_type": "code",
   "execution_count": 67,
   "metadata": {},
   "outputs": [
    {
     "name": "stdout",
     "output_type": "stream",
     "text": [
      "['H', 'D', 'T', 'He', 'Li', 'Be', 'B', 'C', 'N', 'O', 'F', 'Ne', 'Na', 'Mg', 'Al', 'Si', 'P', 'S', 'Cl', 'Ar', 'K', 'Ca', 'Sc', 'Ti', 'V', 'Cr', 'Mn', 'Fe', 'Co', 'Ni', 'Cu', 'Zn', 'Ga', 'Ge', 'As', 'Se', 'Br', 'Kr', 'Rb', 'Sr', 'Y', 'Zr', 'Nb', 'Mo', 'Tc', 'Ru', 'Rh', 'Pd', 'Ag', 'Cd', 'In', 'Sn', 'Sb', 'Te', 'I', 'Xe', 'Cs', 'Ba', 'La', 'Ce', 'Pr', 'Nd', 'Pm', 'Sm', 'Eu', 'Gd', 'Tb', 'Dy', 'Ho', 'Er', 'Tm', 'Yb', 'Lu', 'Hf', 'Ta', 'W', 'Re', 'Os', 'Ir', 'Pt', 'Au', 'Hg', 'Tl', 'Pb', 'Bi', 'Po', 'At', 'Rn', 'Fr', 'Ra', 'Ac', 'Th', 'Pa', 'U', 'Np', 'Pu', 'Am', 'Cm', 'Bk', 'Cf', 'Es', 'Fm', 'Md', 'No', 'Lr', 'Rf', 'Db', 'Sg', 'Bh', 'Hs', 'Mt', 'Ds', 'Rg', 'Cn', 'Nh', 'Fl', 'Mc', 'Lv', 'Ts', 'Og']\n"
     ]
    }
   ],
   "source": [
    "#Task 1. Funct: Read periodic table of elements and store into a dictionary: \n",
    "#    dict['element_name']=['atomic_number','atomic_mass'] \n",
    "\n",
    "import collections #create an ordered dictionary. In this case, order of elements is important.\n",
    "dict = collections.OrderedDict()#initialize dictionary.\n",
    "\n",
    "def dict_periodic_table(file_name):\n",
    "    \"\"\" Read a text file line-by-line and extract information for: atomic number, atomic symbol, and relative atomic mass \"\"\"\n",
    "    \n",
    "    file=open(file_name,'r') #open a file to read\n",
    "\n",
    "    for line in file: #read file line-by-line, extract values, and store into a dictionary\n",
    "\n",
    "        if line.startswith('Atomic Number'):\n",
    "            line=line.replace(\" \",\"\")\n",
    "            value1=line.split('=',1)\n",
    "\n",
    "        if line.startswith('Atomic Symbol'):\n",
    "            line=line.replace(\" \",\"\")\n",
    "            key=line.split('=',1)\n",
    "\n",
    "        if line.startswith('Relative Atomic Mass'):\n",
    "            line=line.replace(\" \",\"\")\n",
    "            value2=line.split('=',1)\n",
    "\n",
    "            dict[key[1].strip()]=[value1[1].strip(),value2[1].strip()]\n",
    "    \n",
    "    return dict\n",
    "####End of function\n",
    "\n",
    "#1a. Call out function\n",
    "file_name='NIST_periodic_table.txt'\n",
    "dict=dict_periodic_table(file_name)\n",
    "\n",
    "#1b.Test out dictionary by calling out an element\n",
    "print(list(dict.keys()))"
   ]
  },
  {
   "cell_type": "code",
   "execution_count": 124,
   "metadata": {
    "scrolled": true
   },
   "outputs": [
    {
     "name": "stdout",
     "output_type": "stream",
     "text": [
      "Unique elements: ['H', 'C', 'N', 'O', 'Cl', 'Si', 'S', 'K', 'Sn', 'F', 'B', 'Br', 'Al', 'Nb', 'Mo', 'Ba', 'Ca', 'Nd', 'Se', 'D', 'Dy', 'Eu', 'In', 'I', 'P', 'Sb', 'T', 'Te', 'Th', 'U', 'Zr', 'Co', 'No', 'Ni', 'Fe', 'Hg', 'Pb', 'Cu', 'Mg', 'Ge', 'Tb', 'Rn', 'Cr', 'Ti', 'V', 'Re', 'La', 'Lu', 'Li', 'Tl', 'As', 'Cd', 'Ce', 'W', 'Er', 'Gd', 'Ho', 'Zn', 'Mn', 'Ga', 'Be', 'Au', 'Cs', 'Sr', 'Ag', 'Na', 'Pr', 'Sm', 'Y', 'Yb', 'Hf', 'Ru', 'Os', 'Pt', 'Rh', 'Ta', 'Ir', 'Pd', 'Bi', 'Rb', 'Sc', 'Pu', 'Tc', 'He', 'Ne', 'Xe', 'Np', 'Ar', 'Tm', 'Kr', 'Po', 'At', 'Es', 'Md', 'Pm', 'Pa', 'Ra', 'Ac', 'Am', 'Bk', 'Cm', 'Cf', 'Fm', 'Fr']\n",
      "104\n",
      "                Formula                                             Name\n",
      "CAS                                                                     \n",
      "100-01-6       C6H6N2O2                                   p-Nitroaniline\n",
      "100-02-7        C6H5NO3                                 Phenol, 4-nitro-\n",
      "100043-29-6       CH2N4                                     2H-Tetrazole\n",
      "100046-00-2  C18H22N2O2  2,2,4,4',6,6'-Hexamethylazobenzene N,N'-dioxide\n",
      "100057-61-2   C11H14N4O         Cyclohexanol, 2-(9h-purin-9-yl)-, trans-\n",
      "100058-19-3    C11H14N6        9H-purine, 9-cyclohex-2-enyl-6-hydrazino-\n",
      "100-06-1        C9H10O2                        Acetophenone, 4'-methoxy-\n",
      "100-06-1        C9H10O2                        Acetophenone, 4'-methoxy-\n",
      "1000-63-1        C8H18O                              1-Tert-butoxybutane\n",
      "1000-63-1        C8H18O                              1-Tert-butoxybutane\n",
      "1000-86-8         C7H12                             (CH3)2C=CHC(CH3)=CH2\n",
      "1000-86-8         C7H12                             (CH3)2C=CHC(CH3)=CH2\n",
      "1000-86-8         C7H12                             (CH3)2C=CHC(CH3)=CH2\n",
      "10008-73-8       C5H6O2              Gamma-methylene-gamma-butyrolactone\n",
      "10008-73-8       C5H6O2              Gamma-methylene-gamma-butyrolactone\n",
      "1000-87-9         C7H12                    2,3-Pentadiene, 2,4-dimethyl-\n",
      "1000-87-9         C7H12                    2,3-Pentadiene, 2,4-dimethyl-\n",
      "1000-87-9         C7H12                    2,3-Pentadiene, 2,4-dimethyl-\n",
      "100-09-4         C8H8O3                         Benzoic acid, 4-methoxy-\n",
      "100-09-4         C8H8O3                         Benzoic acid, 4-methoxy-\n",
      "Unique elements: ['H', 'C', 'N', 'O']\n"
     ]
    }
   ],
   "source": [
    "#Task2: Analyze NIST chemicals list containing 40K+ enteries and perform EDA with the aid of \n",
    "#    the above dict_periodic_table function  \n",
    "    \n",
    "import pandas as pd\n",
    "import re\n",
    "\n",
    "def read_and_clean_nist_chem_list(no_of_files=72619):\n",
    "    \"\"\" Read and clean NIST chemicals list \"\"\" \n",
    "    \n",
    "    #read file\n",
    "    col_names=['Name', 'Formula', 'CAS']  \n",
    "    #Rename columns \n",
    "    df=pd.read_csv(\"NIST_chemicals_list.csv\", header=1, names=col_names)      \n",
    "    #Remove rows that have null objects and keep only rows with no na values\n",
    "    df=df.dropna()\n",
    "    #make CAS the index column\n",
    "    df=df.set_index('CAS')\n",
    "    \n",
    "    return df\n",
    "\n",
    "def unique_elements(df,df_periodic_table):\n",
    "    \"\"\" Extract unique elements and add to the list: unique_elements \"\"\"\n",
    "    \n",
    "    #An array for storing element_list and unique_elements in NIST chemicals list\n",
    "    elements_list=[]\n",
    "    unique_elements=[]\n",
    "    \n",
    "    #create a list of elements from periodic table: elements_list\n",
    "    for element in df_periodic_table:\n",
    "        elements_list.append(element) \n",
    "        \n",
    "    #determine distinct elements: check which element is present in formula. If not yet in unique_elements list, add it  \n",
    "    for each in df.Formula:\n",
    "        for element in elements_list:\n",
    "            if (element in each) and (element not in unique_elements):\n",
    "                unique_elements.append(element)\n",
    "                \n",
    "    return unique_elements\n",
    "\n",
    "def filter_by_elements(df,elements_list):\n",
    "    \"\"\" Filter compounds to contain any, but not exceeding the elements on the specified list: elements_list s\"\"\"\n",
    "   \n",
    "    #Create a blank pandas DataFrame\n",
    "    new_df=pd.DataFrame()\n",
    "    \n",
    "    for i,element in enumerate(df.Formula):\n",
    "        #strip cemical formula and leave out only the alphabets\n",
    "        s_proc=re.sub('[^a-zA-Z]+', '', element)\n",
    "        for allowed_element in elements_list:  \n",
    "            #subtract stripped formula with elements list\n",
    "            s_proc=s_proc.replace(allowed_element,\"\")\n",
    "            #print(\"s_proc:\", s_proc)\n",
    "            #If the stripped formula is completely anihilated, then all elements must have matched\n",
    "            #Thus, append compound to the new DataFrame\n",
    "            if (s_proc==\"\"):\n",
    "            #    print(\"s_proc:\", s_proc)\n",
    "                new_df=new_df.append(df.iloc[i,:])\n",
    "            #s_proc=re.findall('\\D+', each) #extract only letters\n",
    "            \n",
    "    #relabel index column\n",
    "    new_df.index.name=\"CAS\"\n",
    "    return new_df #returns a list\n",
    "\n",
    "\"\"\"In progress\n",
    "def calc_molec-weight(df):\n",
    "    #Calculate molecular weight of a compound\n",
    "    #This is a list for storing molecular weight of compounds\n",
    "    mw_list=[]\n",
    "    \n",
    "    #separate alphabets from numerical\n",
    "    for i,element in enumerate(df.Formula):\n",
    "        #strip cemical formula and leave out only the alphabets\n",
    "        #s_proc=re.sub('[^a-zA-Z-0-9]+', '', element)\n",
    "        for allowed_element in elements_list:      \n",
    "            s_proc=re.findall('\\d+|\\D+', df.Formula)\n",
    "        \n",
    "            mw_list.append()\n",
    "\"\"\"\n",
    "\n",
    "####End of functions\n",
    "    \n",
    "#1. call out function and inspect\n",
    "df=read_and_clean_nist_chem_list()\n",
    "#print(df.head()) #check\n",
    "\n",
    "#2.determine unique elements in chemicals list\n",
    "print(\"Unique elements:\", unique_elements(df,list(dict.keys())))\n",
    "print(len(unique_elements(df,list(dict.keys()))))\n",
    "\n",
    "#3. filter compounds by elements\n",
    "#Parse for alphabets in cemical formula and create a list.\n",
    "#Compare list with master's list. They must be equal.\n",
    "\n",
    "df_filtered=filter_by_elements(df.head(20),['C','H','O','N'])\n",
    "print(df_filtered)\n",
    "                                                 \n",
    "#check                         \n",
    "print(\"Unique elements:\", unique_elements(filter_by_elements(df.head(20),['C','H','O','N']),list(dict.keys())))\n",
    "\n",
    "#4. Calculate molecular weight of compounds\n",
    "#In progress"
   ]
  },
  {
   "cell_type": "code",
   "execution_count": 122,
   "metadata": {},
   "outputs": [
    {
     "name": "stdout",
     "output_type": "stream",
     "text": [
      "('p-Nitroaniline_100-01-6', <http.client.HTTPMessage object at 0x000001598C71A160>)\n",
      "('Phenol 4-nitro-_100-02-7', <http.client.HTTPMessage object at 0x000001598C71A400>)\n",
      "('Cyclohexanol 2-(9h-purin-9-yl)- trans-_100057-61-2', <http.client.HTTPMessage object at 0x000001598C71A908>)\n",
      "('9H-purine 9-cyclohex-2-enyl-6-hydrazino-_100058-19-3', <http.client.HTTPMessage object at 0x000001598C71A748>)\n",
      "('Acetophenone 4-methoxy-_100-06-1', <http.client.HTTPMessage object at 0x000001598C71AE80>)\n",
      "('Acetophenone 4-methoxy-_100-06-1', <http.client.HTTPMessage object at 0x000001598C71AB00>)\n",
      "('(CH3)2C=CHC(CH3)=CH2_1000-86-8', <http.client.HTTPMessage object at 0x000001598C71A9B0>)\n",
      "('(CH3)2C=CHC(CH3)=CH2_1000-86-8', <http.client.HTTPMessage object at 0x000001598C71A7F0>)\n",
      "('(CH3)2C=CHC(CH3)=CH2_1000-86-8', <http.client.HTTPMessage object at 0x000001598C71A6A0>)\n",
      "('23-Pentadiene 24-dimethyl-_1000-87-9', <http.client.HTTPMessage object at 0x000001598C71A7B8>)\n",
      "('23-Pentadiene 24-dimethyl-_1000-87-9', <http.client.HTTPMessage object at 0x000001598C71A978>)\n",
      "('23-Pentadiene 24-dimethyl-_1000-87-9', <http.client.HTTPMessage object at 0x000001598C71A4E0>)\n"
     ]
    }
   ],
   "source": [
    "#Obj. 2  Acquire reference spectra (in jcamp format) using the shortlist and analyze spectra\n",
    "\n",
    "import urllib.request\n",
    "import requests\n",
    "\n",
    "def download_jcamp_from_nist(df_filtered,minimum_file_size=1000,no_of_files=20): \n",
    "        \n",
    "    #NOTE THAT SOME OF THESE FILES TURN out to be empty.\n",
    "    #Need to check file before proceeding. Don't download if empty. \n",
    "    #Files are saved in the same folder as this python script.\n",
    "    \n",
    "    for cas_no in df_filtered.index[:no_of_files]: #Download data based on CAS number partially\n",
    "        #a first way\n",
    "        url=\"http://webbook.nist.gov/cgi/cbook.cgi?JCAMP=C%s&Index=0&Type=IR\" %(cas_no) #specify CAS no. separately\n",
    "        \n",
    "        if len(requests.get(url).content) >= 1000: #Download only if size is significant. 1000 seems optimum.\n",
    "            #Strip comma, apostrophe, and space in the file name because it will mess up the ability of the jcamp program to read the file.\n",
    "            url_ret=urllib.request.urlretrieve(url,df.loc[cas_no,'Name'].replace(\",\",\"\").replace(\"'\",\"\").strip()+\"_\"+cas_no) #save file according to its cas_no\n",
    "            print(url_ret) #print list of downloaded compounds\n",
    "    \n",
    "#Call out function to download\n",
    "download_jcamp_from_nist(df_filtered,1000,20)  "
   ]
  },
  {
   "cell_type": "code",
   "execution_count": 123,
   "metadata": {},
   "outputs": [],
   "source": [
    "#Obj. 3 Modeling and testing\n",
    "\n",
    "#In progress"
   ]
  }
 ],
 "metadata": {
  "kernelspec": {
   "display_name": "Python 3",
   "language": "python",
   "name": "python3"
  },
  "language_info": {
   "codemirror_mode": {
    "name": "ipython",
    "version": 3
   },
   "file_extension": ".py",
   "mimetype": "text/x-python",
   "name": "python",
   "nbconvert_exporter": "python",
   "pygments_lexer": "ipython3",
   "version": "3.5.3"
  }
 },
 "nbformat": 4,
 "nbformat_minor": 2
}
